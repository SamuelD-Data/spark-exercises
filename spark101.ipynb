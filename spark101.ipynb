{
 "cells": [
  {
   "cell_type": "code",
   "execution_count": 20,
   "metadata": {},
   "outputs": [],
   "source": [
    "# importing and creating spark session\n",
    "import pyspark\n",
    "import pandas as pd\n",
    "import numpy as np\n",
    "\n",
    "from pydataset import data\n",
    "from pyspark.sql.functions import lit\n",
    "from pyspark.sql.functions import round, concat, sum, min, max, count, avg, mean, when, asc, desc, month, year, quarter\n",
    "from pyspark.sql.functions import regexp_extract, regexp_replace\n",
    "from vega_datasets import data\n",
    "\n",
    "spark = pyspark.sql.SparkSession.builder.getOrCreate()"
   ]
  },
  {
   "cell_type": "markdown",
   "metadata": {},
   "source": [
    "## Create a spark data frame that contains your favorite programming languages.\n",
    "## The name of the column should be language."
   ]
  },
  {
   "cell_type": "code",
   "execution_count": 17,
   "metadata": {},
   "outputs": [
    {
     "data": {
      "text/plain": [
       "DataFrame[Language: string]"
      ]
     },
     "execution_count": 17,
     "metadata": {},
     "output_type": "execute_result"
    }
   ],
   "source": [
    "# creating language dataframe\n",
    "pd_df = pd.DataFrame({'Language':['python','ruby', 'java', 'c++', 'javascript']})\n",
    "\n",
    "# converting to spark df\n",
    "df = spark.createDataFrame(pd_df)\n",
    "\n",
    "df"
   ]
  },
  {
   "cell_type": "markdown",
   "metadata": {},
   "source": [
    "## View the schema of the dataframe"
   ]
  },
  {
   "cell_type": "code",
   "execution_count": 3,
   "metadata": {},
   "outputs": [
    {
     "name": "stdout",
     "output_type": "stream",
     "text": [
      "root\n",
      " |-- Language: string (nullable = true)\n",
      "\n"
     ]
    }
   ],
   "source": [
    "# printing schema\n",
    "df.printSchema()"
   ]
  },
  {
   "cell_type": "markdown",
   "metadata": {},
   "source": [
    "## Output the shape of the dataframe"
   ]
  },
  {
   "cell_type": "code",
   "execution_count": 4,
   "metadata": {},
   "outputs": [
    {
     "name": "stdout",
     "output_type": "stream",
     "text": [
      "(5, 1)\n"
     ]
    }
   ],
   "source": [
    "# outputting df shape\n",
    "print((df.count(), len(df.columns)))"
   ]
  },
  {
   "cell_type": "markdown",
   "metadata": {},
   "source": [
    "## Show the first 5 records in the dataframe"
   ]
  },
  {
   "cell_type": "code",
   "execution_count": 5,
   "metadata": {},
   "outputs": [
    {
     "name": "stdout",
     "output_type": "stream",
     "text": [
      "+----------+\n",
      "|  Language|\n",
      "+----------+\n",
      "|    python|\n",
      "|      ruby|\n",
      "|      java|\n",
      "|       c++|\n",
      "|javascript|\n",
      "+----------+\n",
      "\n"
     ]
    }
   ],
   "source": [
    "# displaying first 5 df records\n",
    "df.show(5)"
   ]
  },
  {
   "cell_type": "markdown",
   "metadata": {},
   "source": [
    "## Load the mpg dataset as a spark dataframe."
   ]
  },
  {
   "cell_type": "code",
   "execution_count": 6,
   "metadata": {},
   "outputs": [
    {
     "name": "stdout",
     "output_type": "stream",
     "text": [
      "+------------+-----+-----+----+---+----------+---+---+---+---+-------+\n",
      "|manufacturer|model|displ|year|cyl|     trans|drv|cty|hwy| fl|  class|\n",
      "+------------+-----+-----+----+---+----------+---+---+---+---+-------+\n",
      "|        audi|   a4|  1.8|1999|  4|  auto(l5)|  f| 18| 29|  p|compact|\n",
      "|        audi|   a4|  1.8|1999|  4|manual(m5)|  f| 21| 29|  p|compact|\n",
      "|        audi|   a4|  2.0|2008|  4|manual(m6)|  f| 20| 31|  p|compact|\n",
      "|        audi|   a4|  2.0|2008|  4|  auto(av)|  f| 21| 30|  p|compact|\n",
      "|        audi|   a4|  2.8|1999|  6|  auto(l5)|  f| 16| 26|  p|compact|\n",
      "+------------+-----+-----+----+---+----------+---+---+---+---+-------+\n",
      "only showing top 5 rows\n",
      "\n"
     ]
    }
   ],
   "source": [
    "# loading mpg dataset\n",
    "mpg = spark.createDataFrame(data(\"mpg\"))\n",
    "\n",
    "# displaying df\n",
    "mpg.show(5)"
   ]
  },
  {
   "cell_type": "markdown",
   "metadata": {},
   "source": [
    "## Create 1 column of output that contains a message like the one below:\n",
    "\n",
    "#### The 1999 audi a4 has a 4 cylinder engine.\n",
    "####  For each vehicle."
   ]
  },
  {
   "cell_type": "code",
   "execution_count": 7,
   "metadata": {},
   "outputs": [
    {
     "name": "stdout",
     "output_type": "stream",
     "text": [
      "+-----------------------------------------+\n",
      "|cylinders                                |\n",
      "+-----------------------------------------+\n",
      "|The 1999 audi a4 has a 4 cylinder engine.|\n",
      "|The 1999 audi a4 has a 4 cylinder engine.|\n",
      "|The 2008 audi a4 has a 4 cylinder engine.|\n",
      "|The 2008 audi a4 has a 4 cylinder engine.|\n",
      "|The 1999 audi a4 has a 6 cylinder engine.|\n",
      "+-----------------------------------------+\n",
      "only showing top 5 rows\n",
      "\n"
     ]
    }
   ],
   "source": [
    "# creating output column by concating strings with dat from df\n",
    "mpg.select(concat(lit(\"The \"), mpg.year, lit(' '), mpg.manufacturer, lit(' '), mpg.model, lit(' has a '), mpg.cyl, lit(' cylinder engine.')).alias(\"cylinders\")).show(5, False)"
   ]
  },
  {
   "cell_type": "markdown",
   "metadata": {},
   "source": [
    "## Transform the trans column so that it only contains either manual or auto."
   ]
  },
  {
   "cell_type": "code",
   "execution_count": 8,
   "metadata": {},
   "outputs": [
    {
     "name": "stdout",
     "output_type": "stream",
     "text": [
      "+----------+-----------------+\n",
      "|trans     |trans_transformed|\n",
      "+----------+-----------------+\n",
      "|auto(l5)  |auto             |\n",
      "|manual(m5)|manual           |\n",
      "|manual(m6)|manual           |\n",
      "|auto(av)  |auto             |\n",
      "|auto(l5)  |auto             |\n",
      "|manual(m5)|manual           |\n",
      "|auto(av)  |auto             |\n",
      "|manual(m5)|manual           |\n",
      "|auto(l5)  |auto             |\n",
      "|manual(m6)|manual           |\n",
      "|auto(s6)  |auto             |\n",
      "|auto(l5)  |auto             |\n",
      "|manual(m5)|manual           |\n",
      "|auto(s6)  |auto             |\n",
      "|manual(m6)|manual           |\n",
      "|auto(l5)  |auto             |\n",
      "|auto(s6)  |auto             |\n",
      "|auto(s6)  |auto             |\n",
      "|auto(l4)  |auto             |\n",
      "|auto(l4)  |auto             |\n",
      "+----------+-----------------+\n",
      "only showing top 20 rows\n",
      "\n"
     ]
    }
   ],
   "source": [
    "# transforming trans to only include specified characters\n",
    "mpg.select(\"trans\", \n",
    "              regexp_extract(\"trans\", \n",
    "                             r\"^(\\w+)\", 1).alias(\"trans_transformed\")).show(truncate=False)"
   ]
  },
  {
   "cell_type": "markdown",
   "metadata": {},
   "source": [
    "## Load the tips dataset as a spark dataframe."
   ]
  },
  {
   "cell_type": "code",
   "execution_count": 9,
   "metadata": {},
   "outputs": [
    {
     "name": "stdout",
     "output_type": "stream",
     "text": [
      "+----------+----+------+------+---+------+----+\n",
      "|total_bill| tip|   sex|smoker|day|  time|size|\n",
      "+----------+----+------+------+---+------+----+\n",
      "|     16.99|1.01|Female|    No|Sun|Dinner|   2|\n",
      "|     10.34|1.66|  Male|    No|Sun|Dinner|   3|\n",
      "|     21.01| 3.5|  Male|    No|Sun|Dinner|   3|\n",
      "|     23.68|3.31|  Male|    No|Sun|Dinner|   2|\n",
      "|     24.59|3.61|Female|    No|Sun|Dinner|   4|\n",
      "+----------+----+------+------+---+------+----+\n",
      "only showing top 5 rows\n",
      "\n"
     ]
    }
   ],
   "source": [
    "# loading tips dataset\n",
    "tips = spark.createDataFrame(data(\"tips\"))\n",
    "\n",
    "# displaying df\n",
    "tips.show(5)"
   ]
  },
  {
   "cell_type": "markdown",
   "metadata": {},
   "source": [
    "## What percentage of observations are smokers?"
   ]
  },
  {
   "cell_type": "code",
   "execution_count": 10,
   "metadata": {},
   "outputs": [
    {
     "data": {
      "text/plain": [
       "0.38114754098360654"
      ]
     },
     "execution_count": 10,
     "metadata": {},
     "output_type": "execute_result"
    }
   ],
   "source": [
    "# calculating percentage of smokers \n",
    "tips.filter(tips.smoker == 'Yes').count() / tips.count()"
   ]
  },
  {
   "cell_type": "markdown",
   "metadata": {},
   "source": [
    "## Create a column that contains the tip percentage"
   ]
  },
  {
   "cell_type": "code",
   "execution_count": 11,
   "metadata": {},
   "outputs": [
    {
     "name": "stdout",
     "output_type": "stream",
     "text": [
      "+----------+----+-------------------+\n",
      "|total_bill| tip|     tip percentage|\n",
      "+----------+----+-------------------+\n",
      "|     16.99|1.01|0.05944673337257211|\n",
      "|     10.34|1.66|0.16054158607350097|\n",
      "|     21.01| 3.5|0.16658733936220846|\n",
      "+----------+----+-------------------+\n",
      "only showing top 3 rows\n",
      "\n"
     ]
    }
   ],
   "source": [
    "# creating column that contains tip percentage\n",
    "tips.select(tips.total_bill.alias('total_bill'), \n",
    "            tips.tip.alias('tip'),\n",
    "            (tips.tip / tips.total_bill).alias('tip percentage')).show(3)"
   ]
  },
  {
   "cell_type": "markdown",
   "metadata": {},
   "source": [
    "## Calculate the average tip percentage for each combination of sex and smoker."
   ]
  },
  {
   "cell_type": "code",
   "execution_count": 12,
   "metadata": {},
   "outputs": [
    {
     "name": "stdout",
     "output_type": "stream",
     "text": [
      "+------+------+------------------+\n",
      "|   sex|smoker|          avg(tip)|\n",
      "+------+------+------------------+\n",
      "|  Male|    No|3.1134020618556697|\n",
      "|  Male|   Yes|3.0511666666666666|\n",
      "|Female|    No| 2.773518518518518|\n",
      "|Female|   Yes|2.9315151515151516|\n",
      "+------+------+------------------+\n",
      "\n"
     ]
    }
   ],
   "source": [
    "# calculating avg tip percentage for each combination of sex and smoker\n",
    "tips.groupBy(\"sex\", \"smoker\").agg(avg(tips.tip)).show()"
   ]
  },
  {
   "cell_type": "markdown",
   "metadata": {},
   "source": [
    "## Use the seattle weather dataset referenced in the lesson to answer the questions below."
   ]
  },
  {
   "cell_type": "code",
   "execution_count": 15,
   "metadata": {},
   "outputs": [
    {
     "name": "stdout",
     "output_type": "stream",
     "text": [
      "+----------+-------------+--------+--------+----+-------+\n",
      "|      date|precipitation|temp_max|temp_min|wind|weather|\n",
      "+----------+-------------+--------+--------+----+-------+\n",
      "|2012-01-01|          0.0|    12.8|     5.0| 4.7|drizzle|\n",
      "|2012-01-02|         10.9|    10.6|     2.8| 4.5|   rain|\n",
      "|2012-01-03|          0.8|    11.7|     7.2| 2.3|   rain|\n",
      "|2012-01-04|         20.3|    12.2|     5.6| 4.7|   rain|\n",
      "|2012-01-05|          1.3|     8.9|     2.8| 6.1|   rain|\n",
      "|2012-01-06|          2.5|     4.4|     2.2| 2.2|   rain|\n",
      "+----------+-------------+--------+--------+----+-------+\n",
      "only showing top 6 rows\n",
      "\n"
     ]
    }
   ],
   "source": [
    "# from vega_datasets import data\n",
    "\n",
    "# importing weather dataset \n",
    "weather = data.seattle_weather().assign(date=lambda df: df.date.astype(str))\n",
    "\n",
    "# converting dataset to spark df\n",
    "weather = spark.createDataFrame(weather)\n",
    "\n",
    "# displaying df\n",
    "weather.show(6)"
   ]
  },
  {
   "cell_type": "markdown",
   "metadata": {},
   "source": [
    "## Convert the temperatures to farenheight."
   ]
  },
  {
   "cell_type": "code",
   "execution_count": 16,
   "metadata": {},
   "outputs": [
    {
     "name": "stdout",
     "output_type": "stream",
     "text": [
      "+----------+-------------+--------+--------+----+-------+\n",
      "|      date|precipitation|temp_max|temp_min|wind|weather|\n",
      "+----------+-------------+--------+--------+----+-------+\n",
      "|2012-01-01|          0.0|    55.0|     5.0| 4.7|drizzle|\n",
      "|2012-01-02|         10.9|    51.0|     2.8| 4.5|   rain|\n",
      "|2012-01-03|          0.8|    53.0|     7.2| 2.3|   rain|\n",
      "|2012-01-04|         20.3|    54.0|     5.6| 4.7|   rain|\n",
      "|2012-01-05|          1.3|    48.0|     2.8| 6.1|   rain|\n",
      "|2012-01-06|          2.5|    40.0|     2.2| 2.2|   rain|\n",
      "|2012-01-07|          0.0|    45.0|     2.8| 2.3|   rain|\n",
      "|2012-01-08|          0.0|    50.0|     2.8| 2.0|    sun|\n",
      "|2012-01-09|          4.3|    49.0|     5.0| 3.4|   rain|\n",
      "|2012-01-10|          1.0|    43.0|     0.6| 3.4|   rain|\n",
      "|2012-01-11|          0.0|    43.0|    -1.1| 5.1|    sun|\n",
      "|2012-01-12|          0.0|    43.0|    -1.7| 1.9|    sun|\n",
      "|2012-01-13|          0.0|    41.0|    -2.8| 1.3|    sun|\n",
      "|2012-01-14|          4.1|    40.0|     0.6| 5.3|   snow|\n",
      "|2012-01-15|          5.3|    34.0|    -3.3| 3.2|   snow|\n",
      "|2012-01-16|          2.5|    35.0|    -2.8| 5.0|   snow|\n",
      "|2012-01-17|          8.1|    38.0|     0.0| 5.6|   snow|\n",
      "|2012-01-18|         19.8|    32.0|    -2.8| 5.0|   snow|\n",
      "|2012-01-19|         15.2|    30.0|    -2.8| 1.6|   snow|\n",
      "|2012-01-20|         13.5|    45.0|    -1.1| 2.3|   snow|\n",
      "+----------+-------------+--------+--------+----+-------+\n",
      "only showing top 20 rows\n",
      "\n"
     ]
    }
   ],
   "source": [
    "# converting temp to farenheight using formula\n",
    "weather = weather.withColumn(\"temp_max\", round(weather.temp_max*9/5 + 32))\n",
    "weater = weather.withColumn(\"temp_min\", round(weather.temp_min*9/5 + 32))\n",
    "\n",
    "# displaying df\n",
    "weather.show()"
   ]
  },
  {
   "cell_type": "markdown",
   "metadata": {},
   "source": [
    "## Which month has the most rain, on average?"
   ]
  },
  {
   "cell_type": "code",
   "execution_count": 29,
   "metadata": {},
   "outputs": [
    {
     "name": "stdout",
     "output_type": "stream",
     "text": [
      "+-----+--------------+\n",
      "|month|total_rainfall|\n",
      "+-----+--------------+\n",
      "|    1|         466.0|\n",
      "|    2|         422.0|\n",
      "|    3|         606.2|\n",
      "|    4|         375.4|\n",
      "|    5|         207.5|\n",
      "|    6|         132.9|\n",
      "|    7|          48.2|\n",
      "|    8|         163.7|\n",
      "|    9|         235.5|\n",
      "|   10|         503.4|\n",
      "|   11|         642.5|\n",
      "|   12|         622.7|\n",
      "+-----+--------------+\n",
      "\n"
     ]
    }
   ],
   "source": [
    "# calculating average rainfall each month\n",
    "# sorting by month\n",
    "weather.withColumn(\"month\", month(\"date\")).groupBy(\"month\")\\\n",
    ".agg(round(sum(\"precipitation\"), 2).alias(\"total_rainfall\")).sort(\"month\").show()\n"
   ]
  },
  {
   "cell_type": "markdown",
   "metadata": {},
   "source": [
    "## Which year was the windiest?"
   ]
  },
  {
   "cell_type": "code",
   "execution_count": 34,
   "metadata": {},
   "outputs": [
    {
     "name": "stdout",
     "output_type": "stream",
     "text": [
      "+----+------------+\n",
      "|year|average_wind|\n",
      "+----+------------+\n",
      "|2012|      1244.7|\n",
      "|2013|      1100.8|\n",
      "|2014|      1236.5|\n",
      "|2015|      1153.3|\n",
      "+----+------------+\n",
      "\n"
     ]
    }
   ],
   "source": [
    "# calculating average wind each year\n",
    "# sorting by year\n",
    "weather.withColumn(\"year\", year(\"date\")).groupBy(\"year\")\\\n",
    ".agg(round(sum(\"wind\"), 2).alias(\"average_wind\")).sort(\"year\").show()"
   ]
  },
  {
   "cell_type": "markdown",
   "metadata": {},
   "source": [
    "## What is the most frequent type of weather in January?"
   ]
  },
  {
   "cell_type": "code",
   "execution_count": null,
   "metadata": {},
   "outputs": [],
   "source": []
  },
  {
   "cell_type": "markdown",
   "metadata": {},
   "source": [
    "## What is the average high and low tempurature on sunny days in July in 2013 and 2014?"
   ]
  },
  {
   "cell_type": "code",
   "execution_count": null,
   "metadata": {},
   "outputs": [],
   "source": []
  },
  {
   "cell_type": "markdown",
   "metadata": {},
   "source": [
    "## What percentage of days were rainy in q3 of 2015?"
   ]
  },
  {
   "cell_type": "code",
   "execution_count": null,
   "metadata": {},
   "outputs": [],
   "source": []
  },
  {
   "cell_type": "markdown",
   "metadata": {},
   "source": [
    "## For each year, find what percentage of days it rained (had non-zero precipitation)."
   ]
  },
  {
   "cell_type": "code",
   "execution_count": null,
   "metadata": {},
   "outputs": [],
   "source": []
  }
 ],
 "metadata": {
  "kernelspec": {
   "display_name": "Python 3",
   "language": "python",
   "name": "python3"
  },
  "language_info": {
   "codemirror_mode": {
    "name": "ipython",
    "version": 3
   },
   "file_extension": ".py",
   "mimetype": "text/x-python",
   "name": "python",
   "nbconvert_exporter": "python",
   "pygments_lexer": "ipython3",
   "version": "3.7.6"
  }
 },
 "nbformat": 4,
 "nbformat_minor": 4
}
